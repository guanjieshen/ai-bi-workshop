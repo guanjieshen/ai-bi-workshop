{
 "cells": [
  {
   "cell_type": "code",
   "execution_count": 0,
   "metadata": {
    "application/vnd.databricks.v1+cell": {
     "cellMetadata": {},
     "inputWidgets": {},
     "nuid": "69e85d13-b3d1-4c1f-a6f8-d525e8faab19",
     "showTitle": false,
     "tableResultSettingsMap": {},
     "title": ""
    }
   },
   "outputs": [],
   "source": [
    "REFRESH MATERIALIZED VIEW gshen_catalog.city_of_calgary.traffic_cameras_cleaned;\n",
    "REFRESH MATERIALIZED VIEW gshen_catalog.city_of_calgary.traffic_incidents_categorized_24h;\n",
    "REFRESH MATERIALIZED VIEW gshen_catalog.city_of_calgary.traffic_incidents_cleaned;\n"
   ]
  }
 ],
 "metadata": {
  "application/vnd.databricks.v1+notebook": {
   "computePreferences": null,
   "dashboards": [],
   "environmentMetadata": null,
   "inputWidgetPreferences": null,
   "language": "sql",
   "notebookMetadata": {
    "sqlQueryOptions": {
     "applyAutoLimit": true,
     "catalog": "main",
     "schema": "default"
    }
   },
   "notebookName": "4. Refresh MVs.dbquery.ipynb",
   "widgets": {}
  },
  "language_info": {
   "name": "sql"
  }
 },
 "nbformat": 4,
 "nbformat_minor": 0
}
