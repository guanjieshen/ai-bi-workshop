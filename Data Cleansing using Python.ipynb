{
 "cells": [
  {
   "cell_type": "markdown",
   "metadata": {
    "application/vnd.databricks.v1+cell": {
     "cellMetadata": {},
     "inputWidgets": {},
     "nuid": "ed4fd9e5-ab8d-47e2-8bc3-a8f6164f0451",
     "showTitle": false,
     "tableResultSettingsMap": {},
     "title": ""
    }
   },
   "source": [
    "### Let's first take a look at the dataset..."
   ]
  },
  {
   "cell_type": "code",
   "execution_count": 0,
   "metadata": {
    "application/vnd.databricks.v1+cell": {
     "cellMetadata": {
      "byteLimit": 2048000,
      "implicitDf": true,
      "rowLimit": 10000
     },
     "inputWidgets": {},
     "nuid": "27a6bf16-d848-4265-8efd-fa8a4bc8d47f",
     "showTitle": false,
     "tableResultSettingsMap": {
      "0": {
       "dataGridStateBlob": "{\"version\":1,\"tableState\":{\"columnPinning\":{\"left\":[\"#row_number#\"],\"right\":[]},\"columnSizing\":{\"START_DT\":164},\"columnVisibility\":{}},\"settings\":{\"columns\":{}},\"syncTimestamp\":1752533015135}",
       "filterBlob": null,
       "queryPlanFiltersBlob": null,
       "tableResultIndex": 0
      }
     },
     "title": ""
    }
   },
   "outputs": [],
   "source": [
    "%sql SELECT  * FROM gshen_catalog.city_of_calgary.yyc_traffic_incidents order by START_DT desc"
   ]
  },
  {
   "cell_type": "markdown",
   "metadata": {
    "application/vnd.databricks.v1+cell": {
     "cellMetadata": {},
     "inputWidgets": {},
     "nuid": "81497133-cd9d-48c1-b63a-a3f0d4b4378e",
     "showTitle": false,
     "tableResultSettingsMap": {},
     "title": ""
    }
   },
   "source": [
    "#### Let's fix the timestamps for `start_dt` and `modified_dt` in the historical dataset and convert column names to snake_case."
   ]
  },
  {
   "cell_type": "code",
   "execution_count": 0,
   "metadata": {
    "application/vnd.databricks.v1+cell": {
     "cellMetadata": {
      "byteLimit": 2048000,
      "implicitDf": true,
      "rowLimit": 10000
     },
     "inputWidgets": {},
     "nuid": "841778f5-a685-4c2d-8975-96753c293121",
     "showTitle": false,
     "tableResultSettingsMap": {},
     "title": ""
    }
   },
   "outputs": [],
   "source": [
    "%sql\n",
    "CREATE OR REPLACE TABLE gshen_catalog.city_of_calgary.traffic_incidents AS \n",
    "SELECT \n",
    "  id,\n",
    "  `INCIDENT INFO` as incident_info,\n",
    "  DESCRIPTION as description,\n",
    "  from_utc_timestamp(try_to_timestamp(START_DT, 'yyyy/MM/dd hh:mm:ss a'), 'America/Edmonton') AS start_dt,\n",
    "  from_utc_timestamp(try_to_timestamp(MODIFIED_DT, 'yyyy/MM/dd hh:mm:ss a'), 'America/Edmonton') AS modified_dt,\n",
    "  QUADRANT as quadrant,\n",
    "  Longitude as long,\n",
    "  Latitude as lat,\n",
    "  `Count` as incident_count,\n",
    "  Point as point,\n",
    "  `_rescued_data`\n",
    "FROM gshen_catalog.city_of_calgary.yyc_traffic_incidents"
   ]
  },
  {
   "cell_type": "code",
   "execution_count": 0,
   "metadata": {
    "application/vnd.databricks.v1+cell": {
     "cellMetadata": {
      "byteLimit": 2048000,
      "implicitDf": true,
      "rowLimit": 10000
     },
     "inputWidgets": {},
     "nuid": "90cb9523-951d-4193-8acb-9955993a791d",
     "showTitle": false,
     "tableResultSettingsMap": {},
     "title": ""
    }
   },
   "outputs": [],
   "source": [
    "%sql\n",
    "SELECT * FROM gshen_catalog.city_of_calgary.traffic_incidents"
   ]
  },
  {
   "cell_type": "code",
   "execution_count": 0,
   "metadata": {
    "application/vnd.databricks.v1+cell": {
     "cellMetadata": {},
     "inputWidgets": {},
     "nuid": "84934ca1-a6ee-41eb-aec9-7088121063a7",
     "showTitle": false,
     "tableResultSettingsMap": {},
     "title": ""
    }
   },
   "outputs": [],
   "source": []
  }
 ],
 "metadata": {
  "application/vnd.databricks.v1+notebook": {
   "computePreferences": null,
   "dashboards": [],
   "environmentMetadata": {
    "base_environment": "",
    "environment_version": "2"
   },
   "inputWidgetPreferences": null,
   "language": "python",
   "notebookMetadata": {
    "mostRecentlyExecutedCommandWithImplicitDF": {
     "commandId": 1421460868976816,
     "dataframes": [
      "_sqldf"
     ]
    },
    "pythonIndentUnit": 2
   },
   "notebookName": "Data Cleansing using Python",
   "widgets": {}
  },
  "language_info": {
   "name": "python"
  }
 },
 "nbformat": 4,
 "nbformat_minor": 0
}
