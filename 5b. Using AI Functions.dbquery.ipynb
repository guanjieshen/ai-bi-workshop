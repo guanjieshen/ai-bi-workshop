{
 "cells": [
  {
   "cell_type": "code",
   "execution_count": 0,
   "metadata": {
    "application/vnd.databricks.v1+cell": {
     "cellMetadata": {
      "byteLimit": 10485760,
      "rowLimit": 1000
     },
     "inputWidgets": {},
     "nuid": "ba734572-7d8f-4dab-a9fd-6e41a2c1425d",
     "showTitle": false,
     "tableResultSettingsMap": {
      "0": {
       "dataGridStateBlob": "{\"version\":1,\"tableState\":{\"columnPinning\":{\"left\":[\"#row_number#\"],\"right\":[]},\"columnSizing\":{},\"columnVisibility\":{}},\"settings\":{\"columns\":{}},\"syncTimestamp\":1752605695561}",
       "filterBlob": null,
       "queryPlanFiltersBlob": null,
       "tableResultIndex": 0
      }
     },
     "title": ""
    }
   },
   "outputs": [],
   "source": [
    "-- We can also use AI Functions queries to perform time-series forecasting\n",
    "WITH\n",
    "aggregated AS (\n",
    "SELECT DATE(start_dt) as date, COUNT(*) as accident_count\n",
    "-- quadrant\n",
    "FROM gshen_catalog.city_of_calgary.traffic_incidents\n",
    "WHERE YEAR(start_dt) = 2025 AND DATE(start_dt) < '2025-07-01'\n",
    "GROUP BY DATE(start_dt), quadrant\n",
    "ORDER BY date desc\n",
    ")\n",
    "SELECT * FROM AI_FORECAST(\n",
    "  TABLE(aggregated),\n",
    "  horizon => '2025-08-01',\n",
    "  time_col => 'date',\n",
    "   -- group_col => 'quadrant',\n",
    "  value_col => 'accident_count'\n",
    ")\n",
    "\n",
    "-- Forcasting can also be used for anomaly detection!\n",
    "WITH\n",
    "aggregated AS (\n",
    "SELECT DATE(start_dt) as date, COUNT(*) as accident_count\n",
    "FROM gshen_catalog.city_of_calgary.traffic_incidents\n",
    "WHERE YEAR(start_dt) = 2025 AND DATE(start_dt) < '2025-07-01'\n",
    "GROUP BY DATE(start_dt)\n",
    "ORDER BY date desc\n",
    ")\n",
    "SELECT * FROM AI_FORECAST(\n",
    "  TABLE(aggregated),\n",
    "  horizon => '2025-07-15',\n",
    "  time_col => 'date',\n",
    "  value_col => 'accident_count'\n",
    ")\n",
    "\n"
   ]
  }
 ],
 "metadata": {
  "application/vnd.databricks.v1+notebook": {
   "computePreferences": null,
   "dashboards": [],
   "environmentMetadata": null,
   "inputWidgetPreferences": null,
   "language": "sql",
   "notebookMetadata": {
    "sqlQueryOptions": {
     "applyAutoLimit": true,
     "catalog": "main",
     "schema": "default"
    }
   },
   "notebookName": "5b. Using AI Functions.dbquery.ipynb",
   "widgets": {}
  },
  "language_info": {
   "name": "sql"
  }
 },
 "nbformat": 4,
 "nbformat_minor": 0
}
