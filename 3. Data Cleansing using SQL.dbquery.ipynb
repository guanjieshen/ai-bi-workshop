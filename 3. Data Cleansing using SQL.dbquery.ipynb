{
 "cells": [
  {
   "cell_type": "code",
   "execution_count": 0,
   "metadata": {
    "application/vnd.databricks.v1+cell": {
     "cellMetadata": {
      "byteLimit": 10485760,
      "rowLimit": 1000
     },
     "inputWidgets": {},
     "nuid": "21b7dd6d-95ae-4707-a00e-93d7ab9755a3",
     "showTitle": false,
     "tableResultSettingsMap": {},
     "title": ""
    }
   },
   "outputs": [
    {
     "output_type": "display_data",
     "data": {
      "text/plain": [
       "Databricks visualization. Run in Databricks to view."
      ]
     },
     "metadata": {
      "application/vnd.databricks.v1.subcommand+json": {
       "baseErrorDetails": null,
       "bindings": {},
       "collapsed": false,
       "command": "%sql WITH q AS (CREATE MATERIALIZED VIEW gshen_catalog.city_of_calgary.traffic_cameras_cleaned AS \nSELECT \n  `Camera URL` as camera_text,\n  Quadrant as quadrant,\n  `Camera Location` as camera_location,\n  Point as point,\n  CAST(regexp_extract(`Camera URL`, 'Camera\\\\s+(\\\\d+)', 1) AS INT) AS camera_number,\n  regexp_extract(`Camera URL`, '\\\\((http[^)]+)\\\\)', 1) AS camera_url,\n  CAST(regexp_extract(Point, 'POINT \\\\((-?\\\\d+\\\\.\\\\d+)', 1) AS DOUBLE) AS longitude,\n  CAST(regexp_extract(Point, 'POINT \\\\(-?\\\\d+\\\\.\\\\d+ (-?\\\\d+\\\\.\\\\d+)', 1) AS DOUBLE) AS latitude\nFROM \n  gshen_catalog.city_of_calgary.traffic_cameras) SELECT `Quadrant` FROM q GROUP BY `Quadrant`",
       "commandTitle": "Quadrant",
       "commandType": "auto",
       "commandVersion": 0,
       "commentThread": [],
       "commentsVisible": false,
       "contentSha256Hex": null,
       "customPlotOptions": {
        "redashChart": [
         {
          "key": "type",
          "value": "DROPDOWN"
         },
         {
          "key": "options",
          "value": {
           "associativeFilter": true,
           "colors": {
            "max": "#077A9D",
            "min": "#C4CCD6",
            "steps": 7
           },
           "column": "Quadrant",
           "mode": "diagonal",
           "noValuePlaceholder": "-",
           "numberFormat": "0,0.[00]",
           "peopleColumnTitle": "Users",
           "percentFormat": "0.00%",
           "percentValues": true,
           "showTooltips": true,
           "sortOrder": "asc",
           "stageColumnTitle": "{{ @ }}",
           "timeColumnTitle": "Time",
           "timeInterval": "daily",
           "type": "single-select"
          }
         }
        ]
       },
       "datasetPreviewNameToCmdIdMap": {},
       "diffDeletes": [],
       "diffInserts": [],
       "displayType": "redashChart",
       "error": null,
       "errorDetails": null,
       "errorSummary": null,
       "errorTraceType": null,
       "finishTime": 0,
       "globalVars": {},
       "guid": "",
       "height": "auto",
       "hideCommandCode": false,
       "hideCommandResult": false,
       "iPythonMetadata": null,
       "inputWidgets": {},
       "isLockedInExamMode": false,
       "latestUser": "a user",
       "latestUserId": null,
       "listResultMetadata": null,
       "metadata": {},
       "nuid": "1d6efb34-bd38-465d-a7bb-57de23a49688",
       "origId": 0,
       "parentHierarchy": [],
       "pivotAggregation": null,
       "pivotColumns": null,
       "position": 2.0,
       "resultDbfsErrorMessage": null,
       "resultDbfsStatus": "INLINED_IN_TREE",
       "results": null,
       "showCommandTitle": false,
       "startTime": 0,
       "state": "input",
       "streamStates": {},
       "subcommandOptions": {
        "queryPlan": {
         "groups": [
          {
           "identifier": "Quadrant",
           "kind": "identifier"
          }
         ],
         "selects": [
          {
           "identifier": "Quadrant",
           "kind": "identifier"
          }
         ]
        },
        "redashId": "7f001997-7bb1-4950-946a-071bbf5eb5d9",
        "redashLastUpdated": 1752529943000
       },
       "submitTime": 0,
       "subtype": "tableResultSubCmd.visualization",
       "tableResultIndex": 0,
       "tableResultSettingsMap": {},
       "useConsistentColors": false,
       "version": "CommandV1",
       "width": "auto",
       "workflows": null,
       "xColumns": null,
       "yColumns": null
      }
     },
     "output_type": "display_data"
    },
    {
     "output_type": "display_data",
     "data": {
      "text/plain": [
       "Databricks visualization. Run in Databricks to view."
      ]
     },
     "metadata": {
      "application/vnd.databricks.v1.subcommand+json": {
       "baseErrorDetails": null,
       "bindings": {},
       "collapsed": false,
       "command": "-- Let's take a look at the traffic camera data.\nSELECT * FROM gshen_catalog.city_of_calgary.traffic_cameras;\n\n-- We can write some regex to help with the parsing\nSELECT \n  `Camera URL` as camera_text,\n  Quadrant as quadrant,\n  `Camera Location` as camera_location,\n  Point as point,\n  CAST(regexp_extract(`Camera URL`, 'Camera\\\\s+(\\\\d+)', 1) AS INT) AS camera_number,\n  regexp_extract(`Camera URL`, '\\\\((http[^)]+)\\\\)', 1) AS camera_url,\n  CAST(regexp_extract(Point, 'POINT \\\\((-?\\\\d+\\\\.\\\\d+)', 1) AS DOUBLE) AS longitude,\n  CAST(regexp_extract(Point, 'POINT \\\\(-?\\\\d+\\\\.\\\\d+ (-?\\\\d+\\\\.\\\\d+)', 1) AS DOUBLE) AS latitude\nFROM \n  gshen_catalog.city_of_calgary.traffic_cameras;\n\n-- Create an MV ontop of the table\nCREATE MATERIALIZED VIEW gshen_catalog.city_of_calgary.traffic_cameras_cleaned AS \nSELECT \n  `Camera URL` as camera_text,\n  Quadrant as quadrant,\n  `Camera Location` as camera_location,\n  Point as point,\n  CAST(regexp_extract(`Camera URL`, 'Camera\\\\s+(\\\\d+)', 1) AS INT) AS camera_number,\n  regexp_extract(`Camera URL`, '\\\\((http[^)]+)\\\\)', 1) AS camera_url,\n  CAST(regexp_extract(Point, 'POINT \\\\((-?\\\\d+\\\\.\\\\d+)', 1) AS DOUBLE) AS longitude,\n  CAST(regexp_extract(Point, 'POINT \\\\(-?\\\\d+\\\\.\\\\d+ (-?\\\\d+\\\\.\\\\d+)', 1) AS DOUBLE) AS latitude\nFROM \n  gshen_catalog.city_of_calgary.traffic_cameras;\n",
       "commandTitle": "Map Example",
       "commandType": "auto",
       "commandVersion": 0,
       "commentThread": [],
       "commentsVisible": false,
       "contentSha256Hex": null,
       "customPlotOptions": {
        "redashChart": [
         {
          "key": "type",
          "value": "MAP"
         },
         {
          "key": "options",
          "value": {
           "backgroundColor": "#356AFF",
           "borderColor": "#356AFF",
           "bounds": {
            "_northEast": {
             "lat": 51.15305589050795,
             "lng": -113.7945662532002
            },
            "_southWest": {
             "lat": 50.947590381262174,
             "lng": -114.28792105056345
            }
           },
           "clusterMarkers": false,
           "condensed": true,
           "customizeMarkers": false,
           "foregroundColor": "#ffffff",
           "groups": {},
           "iconFont": "circle",
           "iconShape": "marker",
           "latColName": "latitude",
           "lonColName": "longitude",
           "mapTileUrl": "//{s}.tile.openstreetmap.org/{z}/{x}/{y}.png",
           "popup": {
            "enabled": true,
            "template": ""
           },
           "showPlotlyControls": true,
           "tooltip": {
            "enabled": false,
            "template": ""
           },
           "withRowNumber": true
          }
         }
        ]
       },
       "datasetPreviewNameToCmdIdMap": {},
       "diffDeletes": [],
       "diffInserts": [],
       "displayType": "redashChart",
       "error": null,
       "errorDetails": null,
       "errorSummary": null,
       "errorTraceType": null,
       "finishTime": 0,
       "globalVars": {},
       "guid": "",
       "height": "auto",
       "hideCommandCode": false,
       "hideCommandResult": false,
       "iPythonMetadata": null,
       "inputWidgets": {},
       "isLockedInExamMode": false,
       "latestUser": "a user",
       "latestUserId": null,
       "listResultMetadata": null,
       "metadata": {},
       "nuid": "35e47e58-ba83-4355-9e2c-862746a551ed",
       "origId": 0,
       "parentHierarchy": [],
       "pivotAggregation": null,
       "pivotColumns": null,
       "position": 3.0,
       "resultDbfsErrorMessage": null,
       "resultDbfsStatus": "INLINED_IN_TREE",
       "results": null,
       "showCommandTitle": false,
       "startTime": 0,
       "state": "input",
       "streamStates": {},
       "subcommandOptions": {
        "redashId": "dbc84a14-c658-4e55-aa84-bebf8912a69b",
        "redashLastUpdated": 1752529932000
       },
       "submitTime": 0,
       "subtype": "tableResultSubCmd.visualization",
       "tableResultIndex": 0,
       "tableResultSettingsMap": {},
       "useConsistentColors": false,
       "version": "CommandV1",
       "width": "auto",
       "workflows": null,
       "xColumns": null,
       "yColumns": null
      }
     },
     "output_type": "display_data"
    }
   ],
   "source": [
    "-- Let's take a look at the traffic camera data.\n",
    "SELECT * FROM gshen_catalog.city_of_calgary.traffic_cameras;\n",
    "\n",
    "-- We can write some regex to help with the parsing\n",
    "SELECT \n",
    "  `Camera URL` as camera_text,\n",
    "  Quadrant as quadrant,\n",
    "  `Camera Location` as camera_location,\n",
    "  Point as point,\n",
    "  CAST(regexp_extract(`Camera URL`, 'Camera\\\\s+(\\\\d+)', 1) AS INT) AS camera_number,\n",
    "  regexp_extract(`Camera URL`, '\\\\((http[^)]+)\\\\)', 1) AS camera_url,\n",
    "  CAST(regexp_extract(Point, 'POINT \\\\((-?\\\\d+\\\\.\\\\d+)', 1) AS DOUBLE) AS longitude,\n",
    "  CAST(regexp_extract(Point, 'POINT \\\\(-?\\\\d+\\\\.\\\\d+ (-?\\\\d+\\\\.\\\\d+)', 1) AS DOUBLE) AS latitude\n",
    "FROM \n",
    "  gshen_catalog.city_of_calgary.traffic_cameras;\n",
    "\n",
    "-- Create an MV ontop of the table\n",
    "CREATE MATERIALIZED VIEW gshen_catalog.city_of_calgary.traffic_cameras_cleaned AS \n",
    "SELECT \n",
    "  `Camera URL` as camera_text,\n",
    "  Quadrant as quadrant,\n",
    "  `Camera Location` as camera_location,\n",
    "  Point as point,\n",
    "  CAST(regexp_extract(`Camera URL`, 'Camera\\\\s+(\\\\d+)', 1) AS INT) AS camera_number,\n",
    "  regexp_extract(`Camera URL`, '\\\\((http[^)]+)\\\\)', 1) AS camera_url,\n",
    "  CAST(regexp_extract(Point, 'POINT \\\\((-?\\\\d+\\\\.\\\\d+)', 1) AS DOUBLE) AS longitude,\n",
    "  CAST(regexp_extract(Point, 'POINT \\\\(-?\\\\d+\\\\.\\\\d+ (-?\\\\d+\\\\.\\\\d+)', 1) AS DOUBLE) AS latitude\n",
    "FROM \n",
    "  gshen_catalog.city_of_calgary.traffic_cameras;\n"
   ]
  }
 ],
 "metadata": {
  "application/vnd.databricks.v1+notebook": {
   "computePreferences": null,
   "dashboards": [],
   "environmentMetadata": null,
   "inputWidgetPreferences": null,
   "language": "sql",
   "notebookMetadata": {
    "sqlQueryOptions": {
     "applyAutoLimit": true,
     "catalog": "gshen_catalog",
     "schema": "city_of_calgary"
    }
   },
   "notebookName": "3. Data Cleansing using SQL.dbquery.ipynb",
   "widgets": {}
  },
  "language_info": {
   "name": "sql"
  }
 },
 "nbformat": 4,
 "nbformat_minor": 0
}
