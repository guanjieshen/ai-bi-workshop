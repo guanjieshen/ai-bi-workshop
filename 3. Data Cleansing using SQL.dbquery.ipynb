{
 "cells": [
  {
   "cell_type": "code",
   "execution_count": 0,
   "metadata": {
    "application/vnd.databricks.v1+cell": {
     "cellMetadata": {},
     "inputWidgets": {},
     "nuid": "21b7dd6d-95ae-4707-a00e-93d7ab9755a3",
     "showTitle": false,
     "tableResultSettingsMap": {},
     "title": ""
    }
   },
   "outputs": [],
   "source": [
    "-- Let's take a look at the traffic camera data.\n",
    "SELECT * FROM gshen_catalog.city_of_calgary.traffic_cameras;\n",
    "\n",
    "-- We can write some regex to help with the parsing\n",
    "SELECT \n",
    "  `Camera URL` as camera_text,\n",
    "  Quadrant as quadrant,\n",
    "  `Camera Location` as camera_location,\n",
    "  Point as point,\n",
    "  CAST(regexp_extract(`Camera URL`, 'Camera\\\\s+(\\\\d+)', 1) AS INT) AS camera_number,\n",
    "  regexp_extract(`Camera URL`, '\\\\((http[^)]+)\\\\)', 1) AS camera_url,\n",
    "  CAST(regexp_extract(Point, 'POINT \\\\((-?\\\\d+\\\\.\\\\d+)', 1) AS DOUBLE) AS longitude,\n",
    "  CAST(regexp_extract(Point, 'POINT \\\\(-?\\\\d+\\\\.\\\\d+ (-?\\\\d+\\\\.\\\\d+)', 1) AS DOUBLE) AS latitude\n",
    "FROM \n",
    "  gshen_catalog.city_of_calgary.traffic_cameras;\n",
    "\n",
    "-- Create an MV ontop of the table\n",
    "CREATE MATERIALIZED VIEW gshen_catalog.city_of_calgary.traffic_cameras_cleaned AS \n",
    "SELECT \n",
    "  `Camera URL` as camera_text,\n",
    "  Quadrant as quadrant,\n",
    "  `Camera Location` as camera_location,\n",
    "  Point as point,\n",
    "  CAST(regexp_extract(`Camera URL`, 'Camera\\\\s+(\\\\d+)', 1) AS INT) AS camera_number,\n",
    "  regexp_extract(`Camera URL`, '\\\\((http[^)]+)\\\\)', 1) AS camera_url,\n",
    "  CAST(regexp_extract(Point, 'POINT \\\\((-?\\\\d+\\\\.\\\\d+)', 1) AS DOUBLE) AS longitude,\n",
    "  CAST(regexp_extract(Point, 'POINT \\\\(-?\\\\d+\\\\.\\\\d+ (-?\\\\d+\\\\.\\\\d+)', 1) AS DOUBLE) AS latitude\n",
    "FROM \n",
    "  gshen_catalog.city_of_calgary.traffic_cameras;\n"
   ]
  }
 ],
 "metadata": {
  "application/vnd.databricks.v1+notebook": {
   "computePreferences": null,
   "dashboards": [],
   "environmentMetadata": null,
   "inputWidgetPreferences": null,
   "language": "sql",
   "notebookMetadata": {
    "sqlQueryOptions": {
     "applyAutoLimit": true,
     "catalog": "gshen_catalog",
     "schema": "city_of_calgary"
    }
   },
   "notebookName": "3. Data Cleansing using SQL.dbquery.ipynb",
   "widgets": {}
  },
  "language_info": {
   "name": "sql"
  }
 },
 "nbformat": 4,
 "nbformat_minor": 0
}
