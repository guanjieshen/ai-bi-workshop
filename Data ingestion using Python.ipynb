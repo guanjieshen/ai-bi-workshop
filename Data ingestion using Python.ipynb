{
 "cells": [
  {
   "cell_type": "markdown",
   "metadata": {
    "application/vnd.databricks.v1+cell": {
     "cellMetadata": {},
     "inputWidgets": {},
     "nuid": "9818e522-e488-4d2b-9a94-80d11316d24d",
     "showTitle": false,
     "tableResultSettingsMap": {},
     "title": ""
    }
   },
   "source": [
    "### Incremental Data Pull (City of Calgary Traffic Data)"
   ]
  },
  {
   "cell_type": "code",
   "execution_count": 0,
   "metadata": {
    "application/vnd.databricks.v1+cell": {
     "cellMetadata": {
      "byteLimit": 2048000,
      "rowLimit": 10000
     },
     "inputWidgets": {},
     "nuid": "4f7b6cb9-72fe-4de6-a387-58c025d6b7ff",
     "showTitle": false,
     "tableResultSettingsMap": {},
     "title": ""
    }
   },
   "outputs": [],
   "source": [
    "# Fetch data from the provided URL and load it into a Pandas DataFrame\n",
    "url = \"https://data.calgary.ca/resource/35ra-9556.json\"\n",
    "response = requests.get(url)\n",
    "data = response.json()\n",
    "\n",
    "df = pd.DataFrame(data)\n",
    "display(df)\n",
    "\n",
    "# Convert the Pandas DataFrame to a Spark DataFrame and create a temporary view\n",
    "df_spark = spark.createDataFrame(df)\n",
    "df_spark.createOrReplaceTempView(\"incremental_traffic\")"
   ]
  },
  {
   "cell_type": "markdown",
   "metadata": {
    "application/vnd.databricks.v1+cell": {
     "cellMetadata": {},
     "inputWidgets": {},
     "nuid": "6dd898e8-b6d3-4e50-9f87-220521a0a11f",
     "showTitle": false,
     "tableResultSettingsMap": {},
     "title": ""
    }
   },
   "source": [
    "### Merge my dataset with the existing table."
   ]
  },
  {
   "cell_type": "code",
   "execution_count": 0,
   "metadata": {
    "application/vnd.databricks.v1+cell": {
     "cellMetadata": {
      "byteLimit": 2048000,
      "implicitDf": true,
      "rowLimit": 10000
     },
     "inputWidgets": {},
     "nuid": "27a6bf16-d848-4265-8efd-fa8a4bc8d47f",
     "showTitle": false,
     "tableResultSettingsMap": {},
     "title": ""
    }
   },
   "outputs": [],
   "source": [
    "%sql SELECT  * FROM gshen_catalog.city_of_calgary.yyc_traffic_incidents"
   ]
  },
  {
   "cell_type": "code",
   "execution_count": 0,
   "metadata": {
    "application/vnd.databricks.v1+cell": {
     "cellMetadata": {
      "byteLimit": 2048000,
      "implicitDf": true,
      "rowLimit": 10000
     },
     "inputWidgets": {},
     "nuid": "d447553f-7db1-4b1e-9ead-4aed6720279b",
     "showTitle": false,
     "tableResultSettingsMap": {},
     "title": ""
    }
   },
   "outputs": [],
   "source": [
    "%sql\n",
    "MERGE INTO gshen_catalog.city_of_calgary.yyc_traffic_incidents AS target\n",
    "USING (\n",
    "  SELECT\n",
    "    incident_info as `Incident Info`,\n",
    "    description,\n",
    "    start_dt,\n",
    "    modified_dt,\n",
    "    quadrant,\n",
    "    CAST(longitude AS DOUBLE) AS Longitude,\n",
    "    CAST(latitude AS DOUBLE) AS Latitude,\n",
    "    CAST(count AS BIGINT) AS Count,\n",
    "    id,\n",
    "    CONCAT('POINT(', CAST(point.coordinates[0] AS STRING), ' ', CAST(point.coordinates[1] AS STRING), ')') AS Point,\n",
    "    TO_JSON(named_struct(\n",
    "      'computed_region_kxmf_bzkv', `:@computed_region_kxmf_bzkv`,\n",
    "      'computed_region_4a3i_ccfj', `:@computed_region_4a3i_ccfj`,\n",
    "      'computed_region_4b54_tmc4', `:@computed_region_4b54_tmc4`\n",
    "    )) AS _rescued_data\n",
    "  FROM incremental_traffic\n",
    ") AS source\n",
    "ON target.id = source.id\n",
    "WHEN MATCHED THEN\n",
    "  UPDATE SET *\n",
    "WHEN NOT MATCHED THEN\n",
    "  INSERT *"
   ]
  }
 ],
 "metadata": {
  "application/vnd.databricks.v1+notebook": {
   "computePreferences": null,
   "dashboards": [],
   "environmentMetadata": {
    "base_environment": "",
    "environment_version": "2"
   },
   "inputWidgetPreferences": null,
   "language": "python",
   "notebookMetadata": {
    "mostRecentlyExecutedCommandWithImplicitDF": {
     "commandId": 1421460868976551,
     "dataframes": [
      "_sqldf"
     ]
    },
    "pythonIndentUnit": 2
   },
   "notebookName": "Data ingestion using Python",
   "widgets": {}
  },
  "language_info": {
   "name": "python"
  }
 },
 "nbformat": 4,
 "nbformat_minor": 0
}
