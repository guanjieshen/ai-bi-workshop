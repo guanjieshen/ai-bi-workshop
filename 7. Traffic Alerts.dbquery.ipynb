{
 "cells": [
  {
   "cell_type": "code",
   "execution_count": 0,
   "metadata": {
    "application/vnd.databricks.v1+cell": {
     "cellMetadata": {},
     "inputWidgets": {},
     "nuid": "0faa1d1c-83f0-4107-aeeb-72fda4ad0af8",
     "showTitle": false,
     "tableResultSettingsMap": {},
     "title": ""
    }
   },
   "outputs": [],
   "source": [
    "SELECT *\n",
    "FROM gshen_catalog.city_of_calgary.traffic_incidents\n",
    "WHERE MODIFIED_DT >= date_add(HOUR, -1, CURRENT_TIMESTAMP())\n"
   ]
  }
 ],
 "metadata": {
  "application/vnd.databricks.v1+notebook": {
   "computePreferences": null,
   "dashboards": [],
   "environmentMetadata": null,
   "inputWidgetPreferences": null,
   "language": "sql",
   "notebookMetadata": {
    "sqlQueryOptions": {
     "applyAutoLimit": true,
     "catalog": "gshen_catalog",
     "schema": "city_of_calgary"
    }
   },
   "notebookName": "7. Traffic Alerts.dbquery.ipynb",
   "widgets": {}
  },
  "language_info": {
   "name": "sql"
  }
 },
 "nbformat": 4,
 "nbformat_minor": 0
}
