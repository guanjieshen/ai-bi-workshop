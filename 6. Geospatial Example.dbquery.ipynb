{
 "cells": [
  {
   "cell_type": "code",
   "execution_count": 0,
   "metadata": {
    "application/vnd.databricks.v1+cell": {
     "cellMetadata": {},
     "inputWidgets": {},
     "nuid": "b888d289-9859-4ade-8d35-8268348405b0",
     "showTitle": false,
     "tableResultSettingsMap": {},
     "title": ""
    }
   },
   "outputs": [],
   "source": [
    "SELECT\n",
    "  i.id AS incident_id,\n",
    "  i.start_dt AS incident_start_dt,\n",
    "  i.incident_info,\n",
    "  i.description,\n",
    "  i.incident_type,\n",
    "  i.impact_on_traffic,\n",
    "  i.lat AS incident_lat,\n",
    "  i.long AS incident_long,\n",
    "  c.camera_number,\n",
    "  c.latitude AS camera_lat,\n",
    "  c.longitude AS camera_long,\n",
    "  c.camera_url,\n",
    "  ST_DISTANCE(\n",
    "    ST_POINT(i.long, i.lat),\n",
    "    ST_POINT(c.longitude, c.latitude)\n",
    "  ) AS camera_distance_meters\n",
    "FROM gshen_catalog.city_of_calgary.traffic_incidents_categorized_24h i\n",
    "JOIN gshen_catalog.city_of_calgary.traffic_cameras_cleaned c\n",
    "ON TRUE\n",
    "QUALIFY ROW_NUMBER() OVER (\n",
    "  PARTITION BY i.id\n",
    "  ORDER BY ST_DISTANCE(\n",
    "    ST_POINT(i.long, i.lat),\n",
    "    ST_POINT(c.longitude, c.latitude)\n",
    "  )\n",
    ") = 1"
   ]
  }
 ],
 "metadata": {
  "application/vnd.databricks.v1+notebook": {
   "computePreferences": null,
   "dashboards": [],
   "environmentMetadata": null,
   "inputWidgetPreferences": null,
   "language": "sql",
   "notebookMetadata": {
    "sqlQueryOptions": {
     "applyAutoLimit": true,
     "catalog": "main",
     "schema": "default"
    }
   },
   "notebookName": "6. Geospatial Example.dbquery.ipynb",
   "widgets": {}
  },
  "language_info": {
   "name": "sql"
  }
 },
 "nbformat": 4,
 "nbformat_minor": 0
}
