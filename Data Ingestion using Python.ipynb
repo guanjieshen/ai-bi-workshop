{
 "cells": [
  {
   "cell_type": "markdown",
   "metadata": {
    "application/vnd.databricks.v1+cell": {
     "cellMetadata": {
      "byteLimit": 2048000,
      "rowLimit": 10000
     },
     "inputWidgets": {},
     "nuid": "9818e522-e488-4d2b-9a94-80d11316d24d",
     "showTitle": false,
     "tableResultSettingsMap": {},
     "title": ""
    }
   },
   "source": [
    "### Incremental Data Pull (City of Calgary Traffic Data)"
   ]
  },
  {
   "cell_type": "code",
   "execution_count": 0,
   "metadata": {
    "application/vnd.databricks.v1+cell": {
     "cellMetadata": {
      "byteLimit": 2048000,
      "rowLimit": 10000
     },
     "inputWidgets": {},
     "nuid": "4f7b6cb9-72fe-4de6-a387-58c025d6b7ff",
     "showTitle": false,
     "tableResultSettingsMap": {},
     "title": ""
    }
   },
   "outputs": [],
   "source": [
    "# Fetch data from the provided URL and load it into a Pandas DataFrame\n",
    "import requests\n",
    "import pandas as pd\n",
    "\n",
    "url = \"https://data.calgary.ca/resource/35ra-9556.json\"\n",
    "response = requests.get(url)\n",
    "data = response.json()\n",
    "\n",
    "df = pd.DataFrame(data)\n",
    "display(df)\n",
    "\n",
    "# Convert the Pandas DataFrame to a Spark DataFrame and create a temporary view\n",
    "from pyspark.sql.functions import to_utc_timestamp\n",
    "\n",
    "df_spark = spark.createDataFrame(df)\n",
    "df_spark = df_spark.withColumn(\n",
    "    \"start_dt\", to_utc_timestamp(df_spark[\"start_dt\"], \"MST\")\n",
    ").withColumn(\"modified_dt\", to_utc_timestamp(df_spark[\"modified_dt\"], \"MST\"))\n",
    "df_spark.createOrReplaceTempView(\"incremental_traffic\")"
   ]
  },
  {
   "cell_type": "markdown",
   "metadata": {
    "application/vnd.databricks.v1+cell": {
     "cellMetadata": {
      "byteLimit": 2048000,
      "rowLimit": 10000
     },
     "inputWidgets": {},
     "nuid": "6dd898e8-b6d3-4e50-9f87-220521a0a11f",
     "showTitle": false,
     "tableResultSettingsMap": {},
     "title": ""
    }
   },
   "source": [
    "### Merge my dataset with the existing table."
   ]
  },
  {
   "cell_type": "code",
   "execution_count": 0,
   "metadata": {
    "application/vnd.databricks.v1+cell": {
     "cellMetadata": {
      "byteLimit": 2048000,
      "implicitDf": true,
      "rowLimit": 10000
     },
     "inputWidgets": {},
     "nuid": "d447553f-7db1-4b1e-9ead-4aed6720279b",
     "showTitle": false,
     "tableResultSettingsMap": {},
     "title": ""
    }
   },
   "outputs": [],
   "source": [
    "%sql\n",
    "-- Merge incremental traffic data into traffic_incidents table\n",
    "MERGE INTO gshen_catalog.city_of_calgary.traffic_incidents AS target\n",
    "USING (\n",
    "  SELECT\n",
    "    id,\n",
    "    incident_info,\n",
    "    description,\n",
    "    start_dt,\n",
    "    modified_dt,\n",
    "    quadrant,\n",
    "    CAST(longitude AS DOUBLE) AS long,\n",
    "    CAST(latitude AS DOUBLE) AS lat,\n",
    "    CAST(count AS BIGINT) AS incident_count,\n",
    "    CONCAT('POINT(', CAST(point.coordinates[0] AS STRING), ' ', CAST(point.coordinates[1] AS STRING), ')') AS Point,\n",
    "    TO_JSON(named_struct(\n",
    "      'computed_region_kxmf_bzkv', `:@computed_region_kxmf_bzkv`,\n",
    "      'computed_region_4a3i_ccfj', `:@computed_region_4a3i_ccfj`,\n",
    "      'computed_region_4b54_tmc4', `:@computed_region_4b54_tmc4`\n",
    "    )) AS _rescued_data\n",
    "  FROM incremental_traffic\n",
    ") AS source\n",
    "ON target.id = source.id\n",
    "WHEN MATCHED THEN\n",
    "  UPDATE SET *\n",
    "WHEN NOT MATCHED THEN\n",
    "  INSERT *"
   ]
  },
  {
   "cell_type": "code",
   "execution_count": 0,
   "metadata": {
    "application/vnd.databricks.v1+cell": {
     "cellMetadata": {
      "byteLimit": 2048000,
      "implicitDf": true,
      "rowLimit": 10000
     },
     "inputWidgets": {},
     "nuid": "bf89bb36-3fab-4a0b-b2e7-c4676682417b",
     "showTitle": false,
     "tableResultSettingsMap": {},
     "title": ""
    }
   },
   "outputs": [],
   "source": [
    "%sql\n",
    "SELECT * FROM gshen_catalog.city_of_calgary.traffic_incidents order by start_dt desc"
   ]
  }
 ],
 "metadata": {
  "application/vnd.databricks.v1+notebook": {
   "computePreferences": {
    "hardware": {
     "accelerator": null,
     "gpuPoolId": null,
     "memory": null
    }
   },
   "dashboards": [],
   "environmentMetadata": {
    "base_environment": "",
    "dependencies": [
     "pandas",
     "requests"
    ],
    "environment_version": "2"
   },
   "inputWidgetPreferences": null,
   "language": "python",
   "notebookMetadata": {
    "mostRecentlyExecutedCommandWithImplicitDF": {
     "commandId": 1421460868976896,
     "dataframes": [
      "_sqldf"
     ]
    },
    "pythonIndentUnit": 2
   },
   "notebookName": "Data Ingestion using Python",
   "widgets": {}
  },
  "language_info": {
   "name": "python"
  }
 },
 "nbformat": 4,
 "nbformat_minor": 0
}
